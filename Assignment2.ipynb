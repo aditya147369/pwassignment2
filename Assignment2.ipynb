{
 "cells": [
  {
   "cell_type": "markdown",
   "id": "dcdc4819-af79-4c14-bbd3-22010751515a",
   "metadata": {},
   "source": [
    "Q1. How do you comment code in Python? What are the different types of comments?"
   ]
  },
  {
   "cell_type": "markdown",
   "id": "22257cda-0ffa-4096-868f-21706a1c4940",
   "metadata": {},
   "source": [
    "Ans. In Python, we can add comments to your code to provide explanations. There are two main ways to comment code in Python there are two types of comments 1st using the # symbol for singleline comments and using triple quotes ''' or \"\"\" for multiline comments"
   ]
  },
  {
   "cell_type": "markdown",
   "id": "21c20da5-88f6-48fd-8824-a31880cc6e01",
   "metadata": {},
   "source": [
    "Q2. What are variables in Python? How do you declare and assign values to variables?"
   ]
  },
  {
   "cell_type": "code",
   "execution_count": 1,
   "id": "75137599-e92d-410b-90d6-b800dcf52a22",
   "metadata": {},
   "outputs": [],
   "source": [
    "'''Variables in python are like containers that are used to store values of different data\n",
    "types in the memory so that it can be accessed easily for declaring variable it should always\n",
    "starts with alphabets or _ only and assign value by using = operator'''\n",
    "\n",
    "a = 12\n",
    "_a = 10"
   ]
  },
  {
   "cell_type": "markdown",
   "id": "43a8e05d-12f9-4566-9952-0ab98d00e5b6",
   "metadata": {},
   "source": [
    "Q3. How do you convert one data type to another in Python?"
   ]
  },
  {
   "cell_type": "code",
   "execution_count": 2,
   "id": "23b3a643-84a2-4f87-8f55-be35edb6cee9",
   "metadata": {},
   "outputs": [
    {
     "name": "stdout",
     "output_type": "stream",
     "text": [
      "<class 'str'>   <class 'tuple'>\n"
     ]
    }
   ],
   "source": [
    "'''for converting one data type into another we can use type casting function between\n",
    "various data types'''\n",
    "a = 11\n",
    "a = str(a)\n",
    "b = [1,2,3]\n",
    "b = tuple(b)\n",
    "print(type(a),\" \",type(b))"
   ]
  },
  {
   "cell_type": "markdown",
   "id": "3a656633-14e5-495e-810a-a7c5d4a7aefc",
   "metadata": {},
   "source": [
    "Q4. How do you write and execute a Python script from the command line?"
   ]
  },
  {
   "cell_type": "markdown",
   "id": "0db60533-d4f5-4d06-8b6b-4cb41f67d487",
   "metadata": {},
   "source": [
    "Ans. First we can write the code in some text editor like notepad and then save it by filename.py and then open command prompt and type cd and location where the file is stored example cd Documents and then type filename.py and we will get our output"
   ]
  },
  {
   "cell_type": "markdown",
   "id": "cf578911-9b6d-43da-bf9c-65c7f77f49e9",
   "metadata": {},
   "source": [
    "Q5. Given a list my_list = [1, 2, 3, 4, 5], write the code to slice the list and obtain the sub-list [2, 3]."
   ]
  },
  {
   "cell_type": "code",
   "execution_count": 3,
   "id": "8ae359e0-f1e4-4f26-9908-f73e8ff00377",
   "metadata": {},
   "outputs": [
    {
     "data": {
      "text/plain": [
       "[2, 3]"
      ]
     },
     "execution_count": 3,
     "metadata": {},
     "output_type": "execute_result"
    }
   ],
   "source": [
    "my_list = [1,2,3,4,5]\n",
    "my_list[1:3]"
   ]
  },
  {
   "cell_type": "markdown",
   "id": "7d1a76ee-2d0c-474a-af1c-5cad501a63d9",
   "metadata": {},
   "source": [
    "Q6. What is a complex number in mathematics, and how is it represented in Python?"
   ]
  },
  {
   "cell_type": "code",
   "execution_count": 4,
   "id": "c6fb23cc-e97b-4386-9923-61c4287a30ba",
   "metadata": {},
   "outputs": [
    {
     "data": {
      "text/plain": [
       "complex"
      ]
     },
     "execution_count": 4,
     "metadata": {},
     "output_type": "execute_result"
    }
   ],
   "source": [
    "\"In maths a complex number is a number of the form a + bi, where a and b are real numbers, and i is the imaginary part where i = sqrt(-1). The real part of the complex number is a, and the imaginary part is b\"\n",
    "\"It is represented by real number + imaginary unit but instead of i in maths here we use j alphabet\"\n",
    "c = 5 + 9j\n",
    "type(c)"
   ]
  },
  {
   "cell_type": "markdown",
   "id": "3907c483-0daa-495c-b02e-2d708b77dfbc",
   "metadata": {},
   "source": [
    "Q7. What is the correct way to declare a variable named age and assign the value 25 to it?"
   ]
  },
  {
   "cell_type": "code",
   "execution_count": 5,
   "id": "2d75ef2c-b295-4a88-a632-e401aae33661",
   "metadata": {},
   "outputs": [],
   "source": [
    "'the correct way to declare a variable named age and assign the value 25 to it is'\n",
    "age = 25"
   ]
  },
  {
   "cell_type": "markdown",
   "id": "2736ac93-a666-4576-91af-c280dc797bfe",
   "metadata": {},
   "source": [
    "Q8. Declare a variable named price and assign the value 9.99 to it. What data type does this variable belong to?"
   ]
  },
  {
   "cell_type": "code",
   "execution_count": 6,
   "id": "076268a2-c7c0-4185-8617-efcd0b194eaa",
   "metadata": {},
   "outputs": [
    {
     "data": {
      "text/plain": [
       "float"
      ]
     },
     "execution_count": 6,
     "metadata": {},
     "output_type": "execute_result"
    }
   ],
   "source": [
    "price = 9.99\n",
    "'price belongs to float data type'\n",
    "type(price)"
   ]
  },
  {
   "cell_type": "markdown",
   "id": "431688c9-9cd1-4366-86b0-3498f42e7ec8",
   "metadata": {},
   "source": [
    "Q9. Create a variable named name and assign your full name to it as a string. How would you print the value of this variable?"
   ]
  },
  {
   "cell_type": "code",
   "execution_count": 7,
   "id": "4d355ef5-b596-484c-a4b7-3a60eedd81f0",
   "metadata": {},
   "outputs": [
    {
     "name": "stdout",
     "output_type": "stream",
     "text": [
      "aditya kumar\n",
      "a\n",
      "d\n",
      "i\n",
      "t\n",
      "y\n",
      "a\n",
      " \n",
      "k\n",
      "u\n",
      "m\n",
      "a\n",
      "r\n"
     ]
    }
   ],
   "source": [
    "name = \"aditya kumar\"\n",
    "'there are two ways to print it by using print() and by using for loop'\n",
    "print(name)\n",
    "for i in name:\n",
    "    print(i)"
   ]
  },
  {
   "cell_type": "markdown",
   "id": "3aca4994-657f-4608-b7d8-a00a6f98ffae",
   "metadata": {},
   "source": [
    "Q10. Given the string \"Hello, World!\", extract the substring \"World\"."
   ]
  },
  {
   "cell_type": "code",
   "execution_count": 8,
   "id": "161c9cd2-ee27-42f9-886e-4cf7a345746b",
   "metadata": {},
   "outputs": [
    {
     "data": {
      "text/plain": [
       "'World'"
      ]
     },
     "execution_count": 8,
     "metadata": {},
     "output_type": "execute_result"
    }
   ],
   "source": [
    "s = \"Hello, World!\"\n",
    "s = s[7:12]\n",
    "s"
   ]
  },
  {
   "cell_type": "markdown",
   "id": "b913cfe9-2d14-4bee-9bb6-ff98b8bc89ab",
   "metadata": {},
   "source": [
    "Q11. Create a variable named \"is_student\" and assign it a boolean value indicating whether you are currently a student or not."
   ]
  },
  {
   "cell_type": "code",
   "execution_count": 9,
   "id": "3e5046b9-ffa7-4f79-b2b5-915e09109a3f",
   "metadata": {},
   "outputs": [
    {
     "data": {
      "text/plain": [
       "True"
      ]
     },
     "execution_count": 9,
     "metadata": {},
     "output_type": "execute_result"
    }
   ],
   "source": [
    "is_student = True\n",
    "is_student"
   ]
  },
  {
   "cell_type": "code",
   "execution_count": null,
   "id": "1f74cf34-86cb-4d5f-93e6-e403407e6a03",
   "metadata": {},
   "outputs": [],
   "source": []
  }
 ],
 "metadata": {
  "kernelspec": {
   "display_name": "Python 3 (ipykernel)",
   "language": "python",
   "name": "python3"
  },
  "language_info": {
   "codemirror_mode": {
    "name": "ipython",
    "version": 3
   },
   "file_extension": ".py",
   "mimetype": "text/x-python",
   "name": "python",
   "nbconvert_exporter": "python",
   "pygments_lexer": "ipython3",
   "version": "3.10.8"
  }
 },
 "nbformat": 4,
 "nbformat_minor": 5
}
